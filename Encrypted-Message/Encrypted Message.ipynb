{
 "cells": [
  {
   "cell_type": "code",
   "execution_count": 1,
   "id": "6ac12a8d",
   "metadata": {},
   "outputs": [],
   "source": [
    "# Load in the message\n",
    "with open(\"msg.txt\", 'r') as f:\n",
    "    message = [line for line in f.readlines()]"
   ]
  },
  {
   "cell_type": "code",
   "execution_count": 2,
   "id": "f176353c",
   "metadata": {},
   "outputs": [],
   "source": [
    "from collections import defaultdict"
   ]
  },
  {
   "cell_type": "code",
   "execution_count": 3,
   "id": "26242465",
   "metadata": {},
   "outputs": [
    {
     "data": {
      "text/plain": [
       "['m\"kvq!b ,hx!n ubtvnvra.r,\",a,\"hkvq\" ul!v\"rvnvil,uh\\n',\n",
       " 'vhgvlkq!b ,\"kxv\"kveu\"quvak\",rvhgv on\"k,ly,vn!lv!l onql\\n',\n",
       " 've\",uv,ulvq\" ul!,ly,tv\"kvnv\\n',\n",
       " 'lg\"kl\\n',\n",
       " 'vinkkl!tve\",uv,ulvulo vhgvnvdlbfv,ulvwak\",rwvinbv.lvr\"kxolvol,,l!rvs,ulvihr,vqhiihk(tv n\"!rvhgvol,,l!rtv,!\" ol,rvhgvol,,l!rtvi\"y,a!lrvhgv,ulvn.hcltvnk\\n',\n",
       " 'vrhvgh!,u)v,ulv!lql\"cl!v\\n',\n",
       " 'lq\" ul!rv,ulv,ly,v.bv l!gh!i\"kxv,ulv\"kcl!rlvra.r,\",a,\"hkv !hqlrrv,hvly,!nq,v,ulvh!\"x\"knovilrrnxl)mmra.r,\",a,\"hkvq\" ul!rvqnkv.lvqhi n!l\\n',\n",
       " 've\",uv,!nkr hr\",\"hkvq\" ul!r)v\"kvnv,!nkr hr\",\"hkvq\" ul!tv,ulvak\",rvhgv,ulv on\"k,ly,vn!lv!ln!!nkxl\\n',\n",
       " 'v\"kvnv\\n',\n",
       " '\"ggl!lk,vnk\\n',\n",
       " 'varanoobvpa\",lvqhi olyvh!\\n',\n",
       " 'l!tv.a,v,ulvak\",rv,ulirloclrvn!lvolg,vakqunkxl\\n',\n",
       " ')v.bvqhk,!nr,tv\"kvnvra.r,\",a,\"hkvq\" ul!tv,ulvak\",rvhgv,ulv on\"k,ly,vn!lv!l,n\"kl\\n',\n",
       " 'v\"kv,ulvrnilvrlpalkqlv\"kv,ulvq\" ul!,ly,tv.a,v,ulvak\",rv,ulirloclrvn!lvno,l!l\\n',\n",
       " ')mm,ul!lvn!lvnvkai.l!vhgv\\n',\n",
       " '\"ggl!lk,v,b lrvhgvra.r,\",a,\"hkvq\" ul!)v\"gv,ulvq\" ul!vh l!n,lrvhkvr\"kxolvol,,l!rtv\",v\"rv,l!il\\n',\n",
       " 'vnvr\"i olvra.r,\",a,\"hkvq\" ul!fvnvq\" ul!v,un,vh l!n,lrvhkvon!xl!vx!ha rvhgvol,,l!rv\"rv,l!il\\n',\n",
       " 'v hobx!n u\"q)vnvihkhno un.l,\"qvq\" ul!varlrvg\"yl\\n',\n",
       " 'vra.r,\",a,\"hkvhcl!v,ulvlk,\"!lvilrrnxltveul!lnrvnv hobno un.l,\"qvq\" ul!varlrvnvkai.l!vhgvra.r,\",a,\"hkrvn,v\\n',\n",
       " '\"ggl!lk,v hr\",\"hkrv\"kv,ulvilrrnxltveul!lvnvak\",vg!hiv,ulv on\"k,ly,v\"rvin l\\n',\n",
       " 'v,hvhklvhgvrlcl!nov hrr\".\"o\",\"lrv\"kv,ulvq\" ul!,ly,vnk\\n',\n",
       " 'vc\"qlvcl!rn)mm))).a,vbhav !h.n.obvdkhev,un,vno!ln\\n',\n",
       " 'btv.lqnarlvbhav\\n',\n",
       " 'lq!b ,l\\n',\n",
       " 'v,ulvilrrnxl;veloov\\n',\n",
       " 'hkl;v,ulv nrreh!\\n',\n",
       " 'v\"rvq!bbb ,hink\"nm']"
      ]
     },
     "execution_count": 3,
     "metadata": {},
     "output_type": "execute_result"
    }
   ],
   "source": [
    "message"
   ]
  },
  {
   "cell_type": "markdown",
   "id": "1b0aa693",
   "metadata": {},
   "source": [
    "The message is pretty jumbled, the amount of new line characters and the shortness of some lines lead me to believe that the new line character is part of the pattern.\n",
    "My first instinct is this is a basic shift cipher.\n",
    "So lets see if it is."
   ]
  },
  {
   "cell_type": "code",
   "execution_count": 4,
   "id": "20eea630",
   "metadata": {},
   "outputs": [],
   "source": [
    "# Find the pool of all used characters in the message\n",
    "pool = set()\n",
    "for m in message:\n",
    "    for c in m:\n",
    "        pool.add(c)"
   ]
  },
  {
   "cell_type": "code",
   "execution_count": 5,
   "id": "25af616e",
   "metadata": {},
   "outputs": [
    {
     "data": {
      "text/plain": [
       "{'\\n',\n",
       " ' ',\n",
       " '!',\n",
       " '\"',\n",
       " '(',\n",
       " ')',\n",
       " ',',\n",
       " '.',\n",
       " ';',\n",
       " 'a',\n",
       " 'b',\n",
       " 'c',\n",
       " 'd',\n",
       " 'e',\n",
       " 'f',\n",
       " 'g',\n",
       " 'h',\n",
       " 'i',\n",
       " 'k',\n",
       " 'l',\n",
       " 'm',\n",
       " 'n',\n",
       " 'o',\n",
       " 'p',\n",
       " 'q',\n",
       " 'r',\n",
       " 's',\n",
       " 't',\n",
       " 'u',\n",
       " 'v',\n",
       " 'w',\n",
       " 'x',\n",
       " 'y'}"
      ]
     },
     "execution_count": 5,
     "metadata": {},
     "output_type": "execute_result"
    }
   ],
   "source": [
    "pool"
   ]
  },
  {
   "cell_type": "markdown",
   "id": "18fff90f",
   "metadata": {},
   "source": [
    "We can see some punctuation characters, white space, and the alphabet from a-y. This leads me to believe it is a substitution cipher with the non-alphabet characters included. lets compare it to a known body of text."
   ]
  },
  {
   "cell_type": "code",
   "execution_count": 6,
   "id": "161f27e8",
   "metadata": {},
   "outputs": [],
   "source": [
    "# Create a dictionary with the count of each letter as the value (in the message)\n",
    "chars = defaultdict(int)\n",
    "for m in message:\n",
    "    for c in m:\n",
    "        chars[c] += 1"
   ]
  },
  {
   "cell_type": "code",
   "execution_count": 7,
   "id": "d49bf5f9",
   "metadata": {},
   "outputs": [
    {
     "name": "stderr",
     "output_type": "stream",
     "text": [
      "[nltk_data] Downloading package gutenberg to\n",
      "[nltk_data]     C:\\Users\\iwimme\\AppData\\Roaming\\nltk_data...\n",
      "[nltk_data]   Package gutenberg is already up-to-date!\n"
     ]
    }
   ],
   "source": [
    "# We will compare with Jane Austen's emma from the gutenberg corpus\n",
    "import nltk\n",
    "nltk.download('gutenberg');\n",
    "emma = nltk.corpus.gutenberg.words('austen-emma.txt')"
   ]
  },
  {
   "cell_type": "code",
   "execution_count": null,
   "id": "c0ca0654",
   "metadata": {},
   "outputs": [],
   "source": []
  },
  {
   "cell_type": "code",
   "execution_count": 8,
   "id": "eb45a9fb",
   "metadata": {},
   "outputs": [],
   "source": [
    "alpha = 'abcdefghijklmnopqrstuvwxyz'\n",
    "# Create the same dictionary with the frequency as the values\n",
    "emma_chars = defaultdict(int)\n",
    "for em in emma:\n",
    "    for e in em.lower():\n",
    "        if e in pool:  # Only use characters that appear in the message\n",
    "            emma_chars[e] += 1\n",
    "    if len(em) > 1:  # estimates the number of spaces as the text automatically strips\n",
    "        if em[-1] in alpha:  # estimates if the end of the word is a letter.\n",
    "            emma_chars[' '] += 1    "
   ]
  },
  {
   "cell_type": "code",
   "execution_count": 9,
   "id": "ae03e4a8",
   "metadata": {},
   "outputs": [
    {
     "data": {
      "image/png": "[encoded data removed]",
      "text/plain": [
       "<Figure size 432x288 with 1 Axes>"
      ]
     },
     "metadata": {
      "needs_background": "light"
     },
     "output_type": "display_data"
    }
   ],
   "source": [
    "import matplotlib.pyplot as plt\n",
    "\n",
    "# Create a sorted dictionary based on the keys\n",
    "sort_orders = sorted(emma_chars.items(), key=lambda x: x[1], reverse=True)\n",
    "emma_ranks = [i[0] for i in sort_orders]\n",
    "emma_ranks.append(\"\\n\")  # append newline as low frequency due to corpus not including\n",
    "\n",
    "# Plot the bar graph of the distribution of characters\n",
    "plt.bar(range(len(sort_orders)), [x[-1] for x in sort_orders], align='center')\n",
    "plt.xticks(range(len(sort_orders)), [x[0] for x in sort_orders]);"
   ]
  },
  {
   "cell_type": "code",
   "execution_count": 10,
   "id": "62d21322",
   "metadata": {},
   "outputs": [
    {
     "data": {
      "image/png": "[encoded data removed]",
      "text/plain": [
       "<Figure size 432x288 with 1 Axes>"
      ]
     },
     "metadata": {
      "needs_background": "light"
     },
     "output_type": "display_data"
    }
   ],
   "source": [
    "# Create a sorted dictionary based on the keys\n",
    "chars_orders = sorted(chars.items(), key=lambda x: x[1], reverse=True)\n",
    "chars_ranks = [i[0] for i in chars_orders]\n",
    "# Plot the bar graph of the distribution of characters\n",
    "plt.bar(range(len(chars_orders)), [x[-1] for x in chars_orders], align='center')\n",
    "plt.xticks(range(len(chars_orders)), [x[0] for x in chars_orders]);"
   ]
  },
  {
   "cell_type": "markdown",
   "id": "3dd00ca0",
   "metadata": {},
   "source": [
    "We can see that the distributions are relatively close and we can estimate one as the other"
   ]
  },
  {
   "cell_type": "code",
   "execution_count": 11,
   "id": "f6a70d95",
   "metadata": {},
   "outputs": [
    {
     "data": {
      "text/plain": [
       "{'v': ' ',\n",
       " 'l': 'e',\n",
       " ',': 't',\n",
       " '\"': 'a',\n",
       " 'r': 'o',\n",
       " '!': 'n',\n",
       " 'n': 'i',\n",
       " 'k': 'h',\n",
       " 'h': 's',\n",
       " 'u': 'r',\n",
       " ' ': 'd',\n",
       " 'a': 'l',\n",
       " 'q': 'm',\n",
       " 'o': 'u',\n",
       " 'i': 'w',\n",
       " '\\n': 'y',\n",
       " 'g': 'c',\n",
       " '.': 'f',\n",
       " 'b': 'g',\n",
       " 't': ',',\n",
       " 'x': 'b',\n",
       " 'y': 'p',\n",
       " ')': '.',\n",
       " 'e': 'v',\n",
       " 'c': 'k',\n",
       " 'm': '\"',\n",
       " 'd': ';',\n",
       " 'f': 'x',\n",
       " 'w': '!',\n",
       " 'p': 'q',\n",
       " ';': '(',\n",
       " 's': ')',\n",
       " '(': '\\n'}"
      ]
     },
     "execution_count": 11,
     "metadata": {},
     "output_type": "execute_result"
    }
   ],
   "source": [
    "# Create the cipher\n",
    "cipher = {}\n",
    "for i in range(len(chars_ranks)):\n",
    "    cipher[chars_ranks[i]] = emma_ranks[i]\n",
    "\n",
    "cipher"
   ]
  },
  {
   "cell_type": "markdown",
   "id": "d5f00590",
   "metadata": {},
   "source": [
    "We can see our original cipher and can see what the decoded message looks like"
   ]
  },
  {
   "cell_type": "code",
   "execution_count": 12,
   "id": "b157faa5",
   "metadata": {},
   "outputs": [
    {
     "name": "stdout",
     "output_type": "stream",
     "text": [
      "\"ah mngdtsbnidrg, i olfotatltash madren ao i wetrsy sc ehmngdtahb ah vramr lhato sc duiahtept ine neduimey vatr tre madrentept, ah i yecahey wihhen, vatr tre reud sc i ;egx tre !lhato! wig fe oahbue uetteno )tre wsot mswwsh\n",
      ", diano sc uetteno, tnadueto sc uetteno, waptlneo sc tre ifske, ihy os csntr. tre nemeaken yemadreno tre tept fg dencsnwahb tre ahkenoe olfotatltash dnsmeoo ts eptnimt tre snabahiu weooibe.\"\"olfotatltash madreno mih fe mswdiney vatr tnihodsoatash madreno. ah i tnihodsoatash madren, tre lhato sc tre duiahtept ine neinnihbey ah i yacceneht ihy loliuug qlate mswduep snyen, flt tre lhato trewoeukeo ine uect lhmrihbey. fg mshtniot, ah i olfotatltash madren, tre lhato sc tre duiahtept ine netiahey ah tre oiwe oeqlehme ah tre madrentept, flt tre lhato trewoeukeo ine iuteney.\"\"trene ine i hlwfen sc yacceneht tgdeo sc olfotatltash madren. ac tre madren sdeniteo sh oahbue uetteno, at ao tenwey i oawdue olfotatltash madrenx i madren trit sdeniteo sh uinben bnsldo sc uetteno ao tenwey dsugbnidram. i wshsiudrifetam madren loeo capey olfotatltash sken tre ehtane weooibe, vreneio i dsugiudrifetam madren loeo i hlwfen sc olfotatltasho it yacceneht dsoatasho ah tre weooibe, vrene i lhat cnsw tre duiahtept ao widey ts she sc oekeniu dsooafauataeo ah tre madrentept ihy kame kenoi.\"\"...flt gsl dnsfifug ;hsv trit iuneiyg, femiloe gsl yemngdtey tre weooibe( veuu yshe( tre dioovsny ao mngggdtswihai\""
     ]
    }
   ],
   "source": [
    "for mes in message:\n",
    "    for letter in mes:\n",
    "        print(cipher[letter], end='')"
   ]
  },
  {
   "cell_type": "markdown",
   "id": "081cd1d2",
   "metadata": {},
   "source": [
    "Hmmmm, we can see it is a lot of gibberish in here. One thing to note is that the word \"the\" is really common and can all but guarantee that it will be included in here multiple times. So we can find which triplet appears the most"
   ]
  },
  {
   "cell_type": "code",
   "execution_count": 13,
   "id": "f304c358",
   "metadata": {},
   "outputs": [
    {
     "data": {
      "text/plain": [
       "[('v,u', 27),\n",
       " (',ul', 27),\n",
       " ('ulv', 24),\n",
       " ('ul!', 18),\n",
       " ('q\" ', 15),\n",
       " ('\" u', 15),\n",
       " (' ul', 15),\n",
       " ('vnv', 14),\n",
       " ('vq\"', 14),\n",
       " ('vhg', 13)]"
      ]
     },
     "execution_count": 13,
     "metadata": {},
     "output_type": "execute_result"
    }
   ],
   "source": [
    "triples = defaultdict(int)\n",
    "# Find all triple character combinations and add to the list to be printed in descending order\n",
    "for m in message:\n",
    "    for i in range(len(m) - 2):\n",
    "        triples[m[i:i+3]] += 1\n",
    "triples_orders = sorted(triples.items(), key=lambda x: x[1], reverse=True)\n",
    "triples_orders[:10]"
   ]
  },
  {
   "cell_type": "markdown",
   "id": "dd21c080",
   "metadata": {},
   "source": [
    "Both 'v,u' and ',ul' appear 27 times, they are one character off, so we can assume it is either \" th\", \"he \" as the other.\n",
    "If we have a look at our current cipher, we see that 'v' == ' ', ',' == 't', and 'l' == 'e'. So we can assume that 'u' == 'h'. So we will swap these within the cipher"
   ]
  },
  {
   "cell_type": "code",
   "execution_count": 14,
   "id": "8db30617",
   "metadata": {},
   "outputs": [],
   "source": [
    "def swaper(a, b, dictionary) -> dict:\n",
    "    '''\n",
    "    Input: a -> the character in the value that is to be swapped with b\n",
    "            dictionary for which the swap is to take place\n",
    "    Ouput: the same dictionary with a and b swapped in the values only\n",
    "    '''\n",
    "    a_key = ''\n",
    "    b_key = ''\n",
    "    for key, value in dictionary.items():  # For each value, if it is a or b, save the value\n",
    "        if value == a:\n",
    "            a_key = key\n",
    "        if value == b:\n",
    "            b_key = key\n",
    "    \n",
    "    # Swap values inplace\n",
    "    dictionary[a_key], dictionary[b_key] = dictionary[b_key], dictionary[a_key]\n",
    "    return dictionary\n",
    "\n",
    "def print_message(text, cipher):\n",
    "    \"\"\"\n",
    "    input: text, the secret text that needs to be deciphered\n",
    "        cipher, the cipher for the text\n",
    "    output: will print to system the decyphered message\n",
    "    \"\"\"\n",
    "    for mes in text:\n",
    "        for letter in mes:\n",
    "            print(cipher[letter], end='')"
   ]
  },
  {
   "cell_type": "code",
   "execution_count": 15,
   "id": "0dc41433",
   "metadata": {},
   "outputs": [
    {
     "name": "stdout",
     "output_type": "stream",
     "text": [
      "\"ar mngdtsbnidhg, i olfotatltasr madhen ao i wethsy sc ermngdtarb ar vhamh lrato sc duiartept ine neduimey vath the madhentept, ar i yecarey wirren, vath the heud sc i ;egx the !lrato! wig fe oarbue uetteno )the wsot mswwsr\n",
      ", diano sc uetteno, tnadueto sc uetteno, waptlneo sc the ifske, iry os csnth. the nemeaken yemadheno the tept fg dencsnwarb the arkenoe olfotatltasr dnsmeoo ts eptnimt the snabariu weooibe.\"\"olfotatltasr madheno mir fe mswdiney vath tnirodsoatasr madheno. ar i tnirodsoatasr madhen, the lrato sc the duiartept ine neinnirbey ar i yaccenert iry loliuug qlate mswduep snyen, flt the lrato thewoeukeo ine uect lrmhirbey. fg msrtniot, ar i olfotatltasr madhen, the lrato sc the duiartept ine netiarey ar the oiwe oeqlerme ar the madhentept, flt the lrato thewoeukeo ine iuteney.\"\"thene ine i rlwfen sc yaccenert tgdeo sc olfotatltasr madhen. ac the madhen sdeniteo sr oarbue uetteno, at ao tenwey i oawdue olfotatltasr madhenx i madhen thit sdeniteo sr uinben bnsldo sc uetteno ao tenwey dsugbnidham. i wsrsiudhifetam madhen loeo capey olfotatltasr sken the ertane weooibe, vheneio i dsugiudhifetam madhen loeo i rlwfen sc olfotatltasro it yaccenert dsoatasro ar the weooibe, vhene i lrat cnsw the duiartept ao widey ts sre sc oekeniu dsooafauataeo ar the madhentept iry kame kenoi.\"\"...flt gsl dnsfifug ;rsv thit iuneiyg, femiloe gsl yemngdtey the weooibe( veuu ysre( the dioovsny ao mngggdtswirai\""
     ]
    }
   ],
   "source": [
    "cipher = swaper('r','h',cipher)\n",
    "print_message(message,cipher)"
   ]
  },
  {
   "cell_type": "markdown",
   "id": "2ea6f014",
   "metadata": {},
   "source": [
    "It is still a bunch of gibberish. But, we do know that 'a' is more common then 'i' for single words. If we assume that this text is not in the first person we can swap them around."
   ]
  },
  {
   "cell_type": "code",
   "execution_count": 16,
   "id": "96a60162",
   "metadata": {},
   "outputs": [
    {
     "name": "stdout",
     "output_type": "stream",
     "text": [
      "\"ir mngdtsbnadhg, a olfotitltisr midhen io a wethsy sc ermngdtirb ir vhimh lrito sc duairtept ane neduamey vith the midhentept, ir a yecirey warren, vith the heud sc a ;egx the !lrito! wag fe oirbue uetteno )the wsot mswwsr\n",
      ", daino sc uetteno, tnidueto sc uetteno, wiptlneo sc the afske, ary os csnth. the nemeiken yemidheno the tept fg dencsnwirb the irkenoe olfotitltisr dnsmeoo ts eptnamt the snibirau weooabe.\"\"olfotitltisr midheno mar fe mswdaney vith tnarodsoitisr midheno. ir a tnarodsoitisr midhen, the lrito sc the duairtept ane neannarbey ir a yiccenert ary lolauug qlite mswduep snyen, flt the lrito thewoeukeo ane uect lrmharbey. fg msrtnaot, ir a olfotitltisr midhen, the lrito sc the duairtept ane netairey ir the oawe oeqlerme ir the midhentept, flt the lrito thewoeukeo ane auteney.\"\"thene ane a rlwfen sc yiccenert tgdeo sc olfotitltisr midhen. ic the midhen sdenateo sr oirbue uetteno, it io tenwey a oiwdue olfotitltisr midhenx a midhen that sdenateo sr uanben bnsldo sc uetteno io tenwey dsugbnadhim. a wsrsaudhafetim midhen loeo cipey olfotitltisr sken the ertine weooabe, vheneao a dsugaudhafetim midhen loeo a rlwfen sc olfotitltisro at yiccenert dsoitisro ir the weooabe, vhene a lrit cnsw the duairtept io wadey ts sre sc oekenau dsooifiuitieo ir the midhentept ary kime kenoa.\"\"...flt gsl dnsfafug ;rsv that auneayg, femaloe gsl yemngdtey the weooabe( veuu ysre( the daoovsny io mngggdtswaria\""
     ]
    }
   ],
   "source": [
    "cipher = swaper('i','a',cipher)\n",
    "print_message(message,cipher)"
   ]
  },
  {
   "cell_type": "markdown",
   "id": "56138859",
   "metadata": {},
   "source": [
    "We can see that not much has changed, but now we can start to look at 2 letter words. If we assume 'i' and 't' are correct, we do see the word 'it'. So we look for 'it' followed by 'i*' to be the phrase, 'it is'.\n",
    "We can see it with 'it io'. 's' and 'o' have close frequencies so it looks good to swap them"
   ]
  },
  {
   "cell_type": "code",
   "execution_count": 17,
   "id": "e0afcee9",
   "metadata": {},
   "outputs": [
    {
     "name": "stdout",
     "output_type": "stream",
     "text": [
      "\"ir mngdtobnadhg, a slfstitltior midhen is a wethoy oc ermngdtirb ir vhimh lrits oc duairtept ane neduamey vith the midhentept, ir a yecirey warren, vith the heud oc a ;egx the !lrits! wag fe sirbue uettens )the wost mowwor\n",
      ", dains oc uettens, tniduets oc uettens, wiptlnes oc the afoke, ary so conth. the nemeiken yemidhens the tept fg denconwirb the irkense slfstitltior dnomess to eptnamt the onibirau wessabe.\"\"slfstitltior midhens mar fe mowdaney vith tnarsdositior midhens. ir a tnarsdositior midhen, the lrits oc the duairtept ane neannarbey ir a yiccenert ary lslauug qlite mowduep onyen, flt the lrits thewseukes ane uect lrmharbey. fg mortnast, ir a slfstitltior midhen, the lrits oc the duairtept ane netairey ir the sawe seqlerme ir the midhentept, flt the lrits thewseukes ane auteney.\"\"thene ane a rlwfen oc yiccenert tgdes oc slfstitltior midhen. ic the midhen odenates or sirbue uettens, it is tenwey a siwdue slfstitltior midhenx a midhen that odenates or uanben bnolds oc uettens is tenwey dougbnadhim. a woroaudhafetim midhen lses cipey slfstitltior oken the ertine wessabe, vheneas a dougaudhafetim midhen lses a rlwfen oc slfstitltiors at yiccenert dositiors ir the wessabe, vhene a lrit cnow the duairtept is wadey to ore oc sekenau dossifiuities ir the midhentept ary kime kensa.\"\"...flt gol dnofafug ;rov that auneayg, femalse gol yemngdtey the wessabe( veuu yore( the dassvony is mngggdtowaria\""
     ]
    }
   ],
   "source": [
    "cipher = swaper('s','o',cipher)\n",
    "print_message(message,cipher)"
   ]
  },
  {
   "cell_type": "markdown",
   "id": "2ffa6bc6",
   "metadata": {},
   "source": [
    "We see the term \"slfstitltior\" appear a lot in this. At this point we say that 's','t','i','o' are most likely correct. And a word that keeps popping up within this deciphering is substition, so lets assume it is this word. 'l' and 'u', 'f' and 'b', 'r' and 'n' all have similar frequencies"
   ]
  },
  {
   "cell_type": "code",
   "execution_count": 18,
   "id": "d4584578",
   "metadata": {},
   "outputs": [
    {
     "name": "stdout",
     "output_type": "stream",
     "text": [
      "\"in mrgdtofradhg, a substitution midher is a wethoy oc enmrgdtinf in vhimh units oc dlaintept are redlamey vith the midhertept, in a yeciney wanner, vith the held oc a ;egx the !units! wag be sinfle letters )the wost mowwon\n",
      ", dairs oc letters, tridlets oc letters, wiptures oc the aboke, any so corth. the remeiker yemidhers the tept bg dercorwinf the inkerse substitution dromess to eptramt the orifinal wessafe.\"\"substitution midhers man be mowdarey vith transdosition midhers. in a transdosition midher, the units oc the dlaintept are rearranfey in a yiccerent any usuallg quite mowdlep oryer, but the units thewselkes are lect unmhanfey. bg montrast, in a substitution midher, the units oc the dlaintept are retainey in the sawe sequenme in the midhertept, but the units thewselkes are alterey.\"\"there are a nuwber oc yiccerent tgdes oc substitution midher. ic the midher oderates on sinfle letters, it is terwey a siwdle substitution midherx a midher that oderates on larfer frouds oc letters is terwey dolgfradhim. a wonoaldhabetim midher uses cipey substitution oker the entire wessafe, vhereas a dolgaldhabetim midher uses a nuwber oc substitutions at yiccerent dositions in the wessafe, vhere a unit crow the dlaintept is wadey to one oc sekeral dossibilities in the midhertept any kime kersa.\"\"...but gou drobablg ;nov that alreayg, bemause gou yemrgdtey the wessafe( vell yone( the dassvory is mrgggdtowania\""
     ]
    }
   ],
   "source": [
    "cipher = swaper('l','u',cipher)\n",
    "cipher = swaper('f','b',cipher)\n",
    "cipher = swaper('r','n',cipher)\n",
    "print_message(message,cipher)"
   ]
  },
  {
   "cell_type": "markdown",
   "id": "15c3e771",
   "metadata": {},
   "source": [
    "We can see a lot of words and parts of words comming out. this is very reassuring that we are on the right path.\n",
    "Some key words we can find that only have one mian contender for what it could be.\n",
    "transdosition = transposition /dossibilities  = possibilities \n",
    "sekeral = several \n",
    "thewselkes = themselves\n",
    "siwdle = simple\n",
    "corth = forth\n",
    "usuallg = usually\n",
    "So we got some moving around to do\n",
    "d for p\n",
    "k for v\n",
    "w for m\n",
    "c for f\n",
    "g for y\n",
    "Lets do these and see what we get.\n"
   ]
  },
  {
   "cell_type": "code",
   "execution_count": 19,
   "id": "235c6538",
   "metadata": {},
   "outputs": [
    {
     "name": "stdout",
     "output_type": "stream",
     "text": [
      "\"in wryptocraphy, a substitution wipher is a methog of enwryptinc in khiwh units of plaintedt are replaweg kith the wiphertedt, in a gefineg manner, kith the help of a ;eyx the !units! may be sincle letters )the most wommon\n",
      ", pairs of letters, triplets of letters, midtures of the above, ang so forth. the reweiver gewiphers the tedt by performinc the inverse substitution prowess to edtrawt the oricinal messace.\"\"substitution wiphers wan be wompareg kith transposition wiphers. in a transposition wipher, the units of the plaintedt are rearranceg in a gifferent ang usually quite wompled orger, but the units themselves are left unwhanceg. by wontrast, in a substitution wipher, the units of the plaintedt are retaineg in the same sequenwe in the wiphertedt, but the units themselves are altereg.\"\"there are a number of gifferent types of substitution wipher. if the wipher operates on sincle letters, it is termeg a simple substitution wipherx a wipher that operates on larcer croups of letters is termeg polycraphiw. a monoalphabetiw wipher uses fideg substitution over the entire messace, khereas a polyalphabetiw wipher uses a number of substitutions at gifferent positions in the messace, khere a unit from the plaintedt is mapeg to one of several possibilities in the wiphertedt ang viwe versa.\"\"...but you probably ;nok that alreagy, bewause you gewrypteg the messace( kell gone( the passkorg is wryyyptomania\""
     ]
    }
   ],
   "source": [
    "cipher = swaper('d','p',cipher)\n",
    "cipher = swaper('k','v',cipher)\n",
    "cipher = swaper('w','m',cipher)\n",
    "cipher = swaper('c','f',cipher)\n",
    "cipher = swaper('g','y',cipher)\n",
    "print_message(message,cipher)"
   ]
  },
  {
   "cell_type": "markdown",
   "id": "3bce15c3",
   "metadata": {},
   "source": [
    "Ohhhh!!! it is somewhat readable. It looks like it is about substituion ciphers.\n",
    "lets find more obvious swaps\n",
    "wryptocraphy = crptography\n",
    "methog = method\n",
    "plaintedt = plaintext \n",
    "kith = with\n",
    ";nok = know\n",
    "w for c\n",
    "c for g\n",
    "g for d\n",
    "d for x\n",
    "k for w\n",
    "; for k\n"
   ]
  },
  {
   "cell_type": "code",
   "execution_count": 20,
   "id": "a8bf0b03",
   "metadata": {},
   "outputs": [
    {
     "name": "stdout",
     "output_type": "stream",
     "text": [
      "\"in cryptography, a substitution cipher is a method of encrypting in which units of plaintext are replaced with the ciphertext, in a defined manner, with the help of a key; the !units! may be single letters )the most common\n",
      ", pairs of letters, triplets of letters, mixtures of the above, and so forth. the receiver deciphers the text by performing the inverse substitution process to extract the original message.\"\"substitution ciphers can be compared with transposition ciphers. in a transposition cipher, the units of the plaintext are rearranged in a different and usually quite complex order, but the units themselves are left unchanged. by contrast, in a substitution cipher, the units of the plaintext are retained in the same sequence in the ciphertext, but the units themselves are altered.\"\"there are a number of different types of substitution cipher. if the cipher operates on single letters, it is termed a simple substitution cipher; a cipher that operates on larger groups of letters is termed polygraphic. a monoalphabetic cipher uses fixed substitution over the entire message, whereas a polyalphabetic cipher uses a number of substitutions at different positions in the message, where a unit from the plaintext is maped to one of several possibilities in the ciphertext and vice versa.\"\"...but you probably know that already, because you decrypted the message( well done( the password is cryyyptomania\""
     ]
    }
   ],
   "source": [
    "cipher = swaper('w','c',cipher)\n",
    "cipher = swaper('w','g',cipher)\n",
    "cipher = swaper('w','d',cipher)\n",
    "cipher = swaper('w','x',cipher)\n",
    "cipher = swaper('w','k',cipher)\n",
    "cipher = swaper(';','k',cipher)\n",
    "print_message(message,cipher)"
   ]
  },
  {
   "cell_type": "markdown",
   "id": "1303d2d2",
   "metadata": {},
   "source": [
    "Looks like all the letters are correct, but the punctuation looks offfff. it appears that there is only one close bracket, one new line, and a lot of open brackets. I think we need to cycle them around. The '!' look weird, i think it should be \"'\". But this is not apart of the oringinal cipher. O well."
   ]
  },
  {
   "cell_type": "code",
   "execution_count": 21,
   "id": "0f74db70",
   "metadata": {},
   "outputs": [
    {
     "name": "stdout",
     "output_type": "stream",
     "text": [
      "\"in cryptography, a substitution cipher is a method of encrypting in which units of plaintext are replaced with the ciphertext, in a defined manner, with the help of a key; the !units! may be single letters (the most common), pairs of letters, triplets of letters, mixtures of the above, and so forth. the receiver deciphers the text by performing the inverse substitution process to extract the original message.\"\"substitution ciphers can be compared with transposition ciphers. in a transposition cipher, the units of the plaintext are rearranged in a different and usually quite complex order, but the units themselves are left unchanged. by contrast, in a substitution cipher, the units of the plaintext are retained in the same sequence in the ciphertext, but the units themselves are altered.\"\"there are a number of different types of substitution cipher. if the cipher operates on single letters, it is termed a simple substitution cipher; a cipher that operates on larger groups of letters is termed polygraphic. a monoalphabetic cipher uses fixed substitution over the entire message, whereas a polyalphabetic cipher uses a number of substitutions at different positions in the message, where a unit from the plaintext is maped to one of several possibilities in the ciphertext and vice versa.\"\"...but you probably know that already, because you decrypted the message\n",
      " well done\n",
      " the password is cryyyptomania\""
     ]
    }
   ],
   "source": [
    "cipher = swaper(')','(',cipher)\n",
    "cipher = swaper(')','\\n',cipher)\n",
    "print_message(message,cipher)"
   ]
  },
  {
   "cell_type": "markdown",
   "id": "4713474d",
   "metadata": {},
   "source": [
    "\"the password is cryyyptomania\"\n",
    "it is right there in plaintext after the cipher, this is our final answer"
   ]
  },
  {
   "cell_type": "code",
   "execution_count": 22,
   "id": "e2ddcec4",
   "metadata": {},
   "outputs": [
    {
     "data": {
      "text/plain": [
       "'\"in cryptography, a substitution cipher is a method of encrypting in which units of plaintext are replaced with the ciphertext, in a defined manner, with the help of a key; the !units! may be single letters (the most common), pairs of letters, triplets of letters, mixtures of the above, and so forth. the receiver deciphers the text by performing the inverse substitution process to extract the original message.\"\"substitution ciphers can be compared with transposition ciphers. in a transposition cipher, the units of the plaintext are rearranged in a different and usually quite complex order, but the units themselves are left unchanged. by contrast, in a substitution cipher, the units of the plaintext are retained in the same sequence in the ciphertext, but the units themselves are altered.\"\"there are a number of different types of substitution cipher. if the cipher operates on single letters, it is termed a simple substitution cipher; a cipher that operates on larger groups of letters is termed polygraphic. a monoalphabetic cipher uses fixed substitution over the entire message, whereas a polyalphabetic cipher uses a number of substitutions at different positions in the message, where a unit from the plaintext is maped to one of several possibilities in the ciphertext and vice versa.\"\"...but you probably know that already, because you decrypted the message\\n well done\\n the password is cryyyptomania\"'"
      ]
     },
     "execution_count": 22,
     "metadata": {},
     "output_type": "execute_result"
    }
   ],
   "source": [
    "deciphered = ''\n",
    "for mes in message:\n",
    "        for letter in mes:\n",
    "            deciphered = deciphered + cipher[letter]\n",
    "deciphered"
   ]
  },
  {
   "cell_type": "code",
   "execution_count": 23,
   "id": "8d3e82ff",
   "metadata": {},
   "outputs": [
    {
     "data": {
      "image/png": "[encoded data removed]",
      "text/plain": [
       "<Figure size 360x360 with 1 Axes>"
      ]
     },
     "metadata": {
      "needs_background": "light"
     },
     "output_type": "display_data"
    },
    {
     "data": {
      "image/png": "[encoded data removed]",
      "text/plain": [
       "<Figure size 360x360 with 1 Axes>"
      ]
     },
     "metadata": {
      "needs_background": "light"
     },
     "output_type": "display_data"
    }
   ],
   "source": [
    "# Create a sorted dictionary based on the keys\n",
    "deciphered_chars = defaultdict(int)\n",
    "for m in deciphered:\n",
    "    for c in m:\n",
    "        deciphered_chars[c] += 1\n",
    "deciphered_chars_orders = sorted(deciphered_chars.items(), key=lambda x: x[1], reverse=True)\n",
    "deciphered_chars_ranks = [i[0] for i in deciphered_chars_orders]\n",
    "# Plot the bar graph of the distribution of characters\n",
    "plt.figure(figsize=(5,5))\n",
    "plt.bar(range(len(deciphered_chars_orders)), [x[-1] for x in deciphered_chars_orders], align='center')\n",
    "plt.xticks(range(len(deciphered_chars_orders)), [x[0] for x in deciphered_chars_orders]);\n",
    "plt.title(\"Frequency of Characters in Secret Message\")\n",
    "plt.figure(figsize=(5,5))\n",
    "plt.bar(range(len(sort_orders)), [x[-1] for x in sort_orders], align='center')\n",
    "plt.xticks(range(len(sort_orders)), [x[0] for x in sort_orders]);\n",
    "plt.title(\"Frequency of Characters in Emma\");"
   ]
  },
  {
   "cell_type": "markdown",
   "id": "1ee95738",
   "metadata": {},
   "source": [
    "When we compare the distribution of letters we do see som similarities byt a lot more near misses thatn anything.\n",
    "This shows our approach was not entirely wrong, just that the message text was too small and had heavy waitings on some letters over others."
   ]
  },
  {
   "cell_type": "markdown",
   "id": "b29a2c4b",
   "metadata": {},
   "source": [
    "There is some flavour text on the main page for the challenges. Let's see if the cipher works for this as well."
   ]
  },
  {
   "cell_type": "code",
   "execution_count": 24,
   "id": "766769d0",
   "metadata": {},
   "outputs": [
    {
     "name": "stdout",
     "output_type": "stream",
     "text": [
      "thanks sherlock\n",
      "\n"
     ]
    }
   ],
   "source": [
    "flavour_text = ',unkdrvrul!ohqd;'\n",
    "flavour_deciphered = ''\n",
    "for mes in flavour_text:\n",
    "        for letter in mes:\n",
    "            flavour_deciphered = flavour_deciphered + cipher[letter]\n",
    "print(flavour_deciphered)"
   ]
  },
  {
   "cell_type": "markdown",
   "id": "55e92e82",
   "metadata": {},
   "source": [
    "A nice little message to end off the excercise"
   ]
  }
 ],
 "metadata": {
  "kernelspec": {
   "display_name": "Python 3",
   "language": "python",
   "name": "python3"
  },
  "language_info": {
   "codemirror_mode": {
    "name": "ipython",
    "version": 3
   },
   "file_extension": ".py",
   "mimetype": "text/x-python",
   "name": "python",
   "nbconvert_exporter": "python",
   "pygments_lexer": "ipython3",
   "version": "3.7.10"
  }
 },
 "nbformat": 4,
 "nbformat_minor": 5
}
