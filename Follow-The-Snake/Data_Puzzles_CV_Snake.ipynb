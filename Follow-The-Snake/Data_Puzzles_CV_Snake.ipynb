{
 "cells": [
  {
   "cell_type": "markdown",
   "metadata": {
    "id": "2iLc3qFt01zJ"
   },
   "source": [
    "# Follow the Snake"
   ]
  },
  {
   "cell_type": "markdown",
   "metadata": {
    "id": "x8R6qhiA1LTl"
   },
   "source": [
    "Let's get the data from our github repo. The data relevant for this challenge is in the folder `data-puzzles-assets/computervision/snakes/`\n",
    "\n"
   ]
  },
  {
   "cell_type": "code",
   "execution_count": 1,
   "metadata": {
    "colab": {
     "base_uri": "https://localhost:8080/",
     "height": 139
    },
    "id": "VOsPQHQZ1K2h",
    "outputId": "1c33a00e-61d9-4be1-b4cf-cbeac24c15be"
   },
   "outputs": [],
   "source": [
    "#!git clone https://github.com/hyperc54/data-puzzles-assets.git"
   ]
  },
  {
   "cell_type": "code",
   "execution_count": 2,
   "metadata": {
    "id": "Z_OeWby7NgFS"
   },
   "outputs": [],
   "source": [
    "CHALLENGE_DIR = 'C:/Users/iwimme/Documents/data-puzzles/Data-Puzzles/Follow-The-Snake/data-puzzles-assets/computervision/snakes/'"
   ]
  },
  {
   "cell_type": "markdown",
   "metadata": {
    "id": "lN9Lf1LQmvZ3"
   },
   "source": [
    "Will you find the name of the snake?"
   ]
  },
  {
   "cell_type": "code",
   "execution_count": 3,
   "metadata": {
    "id": "DpQCS6ucmqza"
   },
   "outputs": [],
   "source": [
    "import cv2"
   ]
  },
  {
   "cell_type": "code",
   "execution_count": 4,
   "metadata": {},
   "outputs": [
    {
     "data": {
      "text/plain": [
       "'4.5.2'"
      ]
     },
     "execution_count": 4,
     "metadata": {},
     "output_type": "execute_result"
    }
   ],
   "source": [
    "cv2.__version__"
   ]
  },
  {
   "cell_type": "code",
   "execution_count": 5,
   "metadata": {},
   "outputs": [],
   "source": [
    "from os import listdir\n",
    "from os.path import isfile, join\n",
    "onlyfiles = [f for f in listdir(CHALLENGE_DIR) if isfile(join(CHALLENGE_DIR, f)) and f != 'snake.png']"
   ]
  },
  {
   "cell_type": "code",
   "execution_count": 6,
   "metadata": {},
   "outputs": [],
   "source": [
    "# recognizer = cv2.face.LBPHFaceRecognizer_create()\n",
    "method = cv2.TM_SQDIFF_NORMED\n",
    "\n",
    "# Read the images from the file\n",
    "small_image = cv2.imread(CHALLENGE_DIR + \"snake.png\")\n",
    "template = cv2.cvtColor(small_image, cv2.COLOR_BGR2GRAY)\n",
    "directions = []\n",
    "\n",
    "for file in onlyfiles:\n",
    "    large_image = cv2.imread(CHALLENGE_DIR + file)\n",
    "    large = cv2.cvtColor(large_image, cv2.COLOR_BGR2GRAY)\n",
    "\n",
    "\n",
    "    # result = cv2.matchTemplate(large_image, small_image, method)\n",
    "    result = cv2.matchTemplate(large, template, method)\n",
    "\n",
    "    # # We want the minimum squared difference\n",
    "    mn,_,mnLoc,_ = cv2.minMaxLoc(result)\n",
    "\n",
    "    # # Draw the rectangle:\n",
    "    # # Extract the coordinates of our best match\n",
    "    MPx,MPy = mnLoc\n",
    "\n",
    "    # # Step 2: Get the size of the template. This is the same size as the match.\n",
    "    trows,tcols = small_image.shape[:2]\n",
    "\n",
    "    # # Step 3: Draw the rectangle on large_image\n",
    "    cv2.rectangle(large_image, (MPx,MPy),(MPx+tcols,MPy+trows),(0,0,255),2)\n",
    "\n",
    "    # # Display the original image with the rectangle around the match.\n",
    "    cv2.imshow('output',large_image)\n",
    "\n",
    "    # # The image is only displayed if we call this\n",
    "    directions.append(mnLoc)\n",
    "    cv2.waitKey(100)"
   ]
  },
  {
   "cell_type": "code",
   "execution_count": 9,
   "metadata": {},
   "outputs": [],
   "source": [
    "N = (10, 12)\n",
    "S = (82, 12)\n",
    "E = (82, 84)\n",
    "W = (10, 84)"
   ]
  },
  {
   "cell_type": "code",
   "execution_count": 15,
   "metadata": {},
   "outputs": [],
   "source": [
    "import matplotlib.pyplot as plt"
   ]
  },
  {
   "cell_type": "code",
   "execution_count": 31,
   "metadata": {},
   "outputs": [
    {
     "data": {
      "image/png": "[encoded data removed]",
      "text/plain": [
       "<Figure size 720x72 with 1 Axes>"
      ]
     },
     "metadata": {
      "needs_background": "light"
     },
     "output_type": "display_data"
    }
   ],
   "source": [
    "plt.figure(figsize=(10,1))\n",
    "vert = 0\n",
    "hor = 0\n",
    "last_vert = 0\n",
    "last_hor = 0\n",
    "\n",
    "for d in directions:\n",
    "    if d == N:\n",
    "        vert += 1\n",
    "    elif d == S:\n",
    "        vert -= 1\n",
    "    elif d == E:\n",
    "        hor += 1\n",
    "    elif d == W:\n",
    "        hor -= 1\n",
    "    plt.plot((last_hor,hor), (last_vert,vert), 'b')\n",
    "#     print(last_vert - vert, last_hor - hor)\n",
    "    last_vert = vert\n",
    "    last_hor = hor"
   ]
  }
 ],
 "metadata": {
  "colab": {
   "name": "Data Puzzles / CV_Snake.ipynb",
   "provenance": [],
   "toc_visible": true
  },
  "kernelspec": {
   "display_name": "Python 3",
   "language": "python",
   "name": "python3"
  },
  "language_info": {
   "codemirror_mode": {
    "name": "ipython",
    "version": 3
   },
   "file_extension": ".py",
   "mimetype": "text/x-python",
   "name": "python",
   "nbconvert_exporter": "python",
   "pygments_lexer": "ipython3",
   "version": "3.7.10"
  }
 },
 "nbformat": 4,
 "nbformat_minor": 1
}
