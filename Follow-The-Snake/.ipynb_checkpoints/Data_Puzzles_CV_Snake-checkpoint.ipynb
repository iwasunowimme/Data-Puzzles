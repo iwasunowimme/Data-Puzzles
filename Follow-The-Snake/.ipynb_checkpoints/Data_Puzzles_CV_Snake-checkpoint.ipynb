{
 "cells": [
  {
   "cell_type": "markdown",
   "metadata": {
    "id": "2iLc3qFt01zJ"
   },
   "source": [
    "# Follow the Snake"
   ]
  },
  {
   "cell_type": "markdown",
   "metadata": {
    "id": "x8R6qhiA1LTl"
   },
   "source": [
    "Let's get the data from our github repo. The data relevant for this challenge is in the folder `data-puzzles-assets/computervision/snakes/`\n",
    "\n"
   ]
  },
  {
   "cell_type": "code",
   "execution_count": 1,
   "metadata": {
    "colab": {
     "base_uri": "https://localhost:8080/",
     "height": 139
    },
    "id": "VOsPQHQZ1K2h",
    "outputId": "1c33a00e-61d9-4be1-b4cf-cbeac24c15be"
   },
   "outputs": [],
   "source": [
    "#!git clone https://github.com/hyperc54/data-puzzles-assets.git"
   ]
  },
  {
   "cell_type": "code",
   "execution_count": 2,
   "metadata": {
    "id": "Z_OeWby7NgFS"
   },
   "outputs": [],
   "source": [
    "CHALLENGE_DIR = '/content/data-puzzles-assets/computervision/snakes/'"
   ]
  },
  {
   "cell_type": "markdown",
   "metadata": {
    "id": "lN9Lf1LQmvZ3"
   },
   "source": [
    "Will you find the name of the snake?"
   ]
  },
  {
   "cell_type": "code",
   "execution_count": 7,
   "metadata": {
    "id": "DpQCS6ucmqza"
   },
   "outputs": [],
   "source": [
    "import cv2"
   ]
  },
  {
   "cell_type": "code",
   "execution_count": 8,
   "metadata": {},
   "outputs": [
    {
     "data": {
      "text/plain": [
       "'4.5.2'"
      ]
     },
     "execution_count": 8,
     "metadata": {},
     "output_type": "execute_result"
    }
   ],
   "source": [
    "cv2.__version__"
   ]
  },
  {
   "cell_type": "code",
   "execution_count": 10,
   "metadata": {},
   "outputs": [
    {
     "ename": "AttributeError",
     "evalue": "module 'cv2.cv2' has no attribute 'matchtemplate'",
     "output_type": "error",
     "traceback": [
      "\u001b[1;31m---------------------------------------------------------------------------\u001b[0m",
      "\u001b[1;31mAttributeError\u001b[0m                            Traceback (most recent call last)",
      "\u001b[1;32m<ipython-input-10-12074b3fc007>\u001b[0m in \u001b[0;36m<module>\u001b[1;34m\u001b[0m\n\u001b[0;32m      6\u001b[0m \u001b[0mlarge_image\u001b[0m \u001b[1;33m=\u001b[0m \u001b[0mcv2\u001b[0m\u001b[1;33m.\u001b[0m\u001b[0mimread\u001b[0m\u001b[1;33m(\u001b[0m\u001b[0mCHALLENGE_DIR\u001b[0m \u001b[1;33m+\u001b[0m \u001b[1;34m\"follow-the-snake-051.png\"\u001b[0m\u001b[1;33m)\u001b[0m\u001b[1;33m\u001b[0m\u001b[1;33m\u001b[0m\u001b[0m\n\u001b[0;32m      7\u001b[0m \u001b[1;33m\u001b[0m\u001b[0m\n\u001b[1;32m----> 8\u001b[1;33m \u001b[0mresult\u001b[0m \u001b[1;33m=\u001b[0m \u001b[0mcv2\u001b[0m\u001b[1;33m.\u001b[0m\u001b[0mmatchtemplate\u001b[0m\u001b[1;33m(\u001b[0m\u001b[0mlarge_image\u001b[0m\u001b[1;33m,\u001b[0m \u001b[0msmall_image\u001b[0m\u001b[1;33m,\u001b[0m \u001b[0mmethod\u001b[0m\u001b[1;33m)\u001b[0m\u001b[1;33m\u001b[0m\u001b[1;33m\u001b[0m\u001b[0m\n\u001b[0m\u001b[0;32m      9\u001b[0m \u001b[1;33m\u001b[0m\u001b[0m\n\u001b[0;32m     10\u001b[0m \u001b[1;31m# We want the minimum squared difference\u001b[0m\u001b[1;33m\u001b[0m\u001b[1;33m\u001b[0m\u001b[1;33m\u001b[0m\u001b[0m\n",
      "\u001b[1;31mAttributeError\u001b[0m: module 'cv2.cv2' has no attribute 'matchtemplate'"
     ]
    }
   ],
   "source": [
    "recognizer = cv2.face.LBPHFaceRecognizer_create()\n",
    "method = cv2.TM_SQDIFF_NORMED\n",
    "\n",
    "# Read the images from the file\n",
    "small_image = cv2.imread(CHALLENGE_DIR + \"E.png\")\n",
    "large_image = cv2.imread(CHALLENGE_DIR + \"follow-the-snake-051.png\")\n",
    "\n",
    "result = cv2.matchtemplate(large_image, small_image, method)\n",
    "\n",
    "# We want the minimum squared difference\n",
    "mn,_,mnLoc,_ = cv2.minMaxLoc(result)\n",
    "\n",
    "# Draw the rectangle:\n",
    "# Extract the coordinates of our best match\n",
    "MPx,MPy = mnLoc\n",
    "\n",
    "# Step 2: Get the size of the template. This is the same size as the match.\n",
    "trows,tcols = small_image.shape[:2]\n",
    "\n",
    "# Step 3: Draw the rectangle on large_image\n",
    "cv2.rectangle(large_image, (MPx,MPy),(MPx+tcols,MPy+trows),(0,0,255),2)\n",
    "\n",
    "# Display the original image with the rectangle around the match.\n",
    "cv2.imshow('output',large_image)\n",
    "\n",
    "# The image is only displayed if we call this\n",
    "cv2.waitKey(0)"
   ]
  },
  {
   "cell_type": "code",
   "execution_count": null,
   "metadata": {},
   "outputs": [],
   "source": []
  }
 ],
 "metadata": {
  "colab": {
   "name": "Data Puzzles / CV_Snake.ipynb",
   "provenance": [],
   "toc_visible": true
  },
  "kernelspec": {
   "display_name": "Python 3",
   "language": "python",
   "name": "python3"
  },
  "language_info": {
   "codemirror_mode": {
    "name": "ipython",
    "version": 3
   },
   "file_extension": ".py",
   "mimetype": "text/x-python",
   "name": "python",
   "nbconvert_exporter": "python",
   "pygments_lexer": "ipython3",
   "version": "3.7.10"
  }
 },
 "nbformat": 4,
 "nbformat_minor": 1
}
